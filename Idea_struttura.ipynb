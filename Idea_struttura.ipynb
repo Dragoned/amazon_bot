{
 "cells": [
  {
   "cell_type": "code",
   "execution_count": 18,
   "source": [
    "import pickle"
   ],
   "outputs": [],
   "metadata": {}
  },
  {
   "cell_type": "code",
   "execution_count": 19,
   "source": [
    "class struttura:\r\n",
    "    def __init__(self, x = 0, y = 0):\r\n",
    "        self.x = x\r\n",
    "        self.y = y\r\n",
    "    \r\n",
    "    def saluta(self):\r\n",
    "        print(\"ciao\")"
   ],
   "outputs": [],
   "metadata": {}
  },
  {
   "cell_type": "markdown",
   "source": [],
   "metadata": {}
  },
  {
   "cell_type": "code",
   "execution_count": 20,
   "source": [
    "array = [struttura(0,1),struttura(2,3), struttura(4,5)]\r\n",
    "\r\n",
    "with open(\"bin\", \"wb\") as file:\r\n",
    "    pickle.dump(array, file)\r\n",
    "    file.close()"
   ],
   "outputs": [],
   "metadata": {}
  },
  {
   "cell_type": "code",
   "execution_count": 21,
   "source": [
    "\r\n",
    "with open(\"bin\", \"rb\") as file:\r\n",
    "    array_caricato = pickle.load(file)\r\n",
    "    print(array_caricato)"
   ],
   "outputs": [
    {
     "output_type": "stream",
     "name": "stdout",
     "text": [
      "[<__main__.struttura object at 0x0000018F5DFFF310>, <__main__.struttura object at 0x0000018F5DFFF370>, <__main__.struttura object at 0x0000018F5DFF9820>]\n"
     ]
    }
   ],
   "metadata": {}
  },
  {
   "cell_type": "code",
   "execution_count": 22,
   "source": [
    "# variable test\r\n",
    "for i in range(len(array_caricato)):\r\n",
    "    print(array_caricato[i].x, array_caricato[i].y)\r\n",
    "    "
   ],
   "outputs": [
    {
     "output_type": "stream",
     "name": "stdout",
     "text": [
      "0 1\n",
      "2 3\n",
      "4 5\n"
     ]
    }
   ],
   "metadata": {}
  },
  {
   "cell_type": "code",
   "execution_count": 24,
   "source": [
    "# function test\r\n",
    "for i in range(len(array_caricato)):\r\n",
    "    array_caricato[i].saluta()"
   ],
   "outputs": [
    {
     "output_type": "stream",
     "name": "stdout",
     "text": [
      "ciao\n",
      "ciao\n",
      "ciao\n"
     ]
    }
   ],
   "metadata": {}
  },
  {
   "cell_type": "code",
   "execution_count": 25,
   "source": [
    "# penso che quà tu abbia capito cosa intendo\r\n",
    "class main:\r\n",
    "    lista_classi = []\r\n",
    "\r\n",
    "    def __init__(self):\r\n",
    "        with open(\"bin\", \"rb\") as file:\r\n",
    "            self.lista_classi = pickle.load(file)\r\n",
    "\r\n",
    "    def salutate_tutti(self):\r\n",
    "        for i in self.lista_classi:\r\n",
    "            i.saluta()    "
   ],
   "outputs": [],
   "metadata": {}
  },
  {
   "cell_type": "code",
   "execution_count": 26,
   "source": [
    "test = main()\r\n",
    "test.salutate_tutti()"
   ],
   "outputs": [
    {
     "output_type": "stream",
     "name": "stdout",
     "text": [
      "ciao\n",
      "ciao\n",
      "ciao\n"
     ]
    }
   ],
   "metadata": {}
  }
 ],
 "metadata": {
  "orig_nbformat": 4,
  "language_info": {
   "name": "python",
   "version": "3.9.5",
   "mimetype": "text/x-python",
   "codemirror_mode": {
    "name": "ipython",
    "version": 3
   },
   "pygments_lexer": "ipython3",
   "nbconvert_exporter": "python",
   "file_extension": ".py"
  },
  "kernelspec": {
   "name": "python3",
   "display_name": "Python 3.9.5 64-bit"
  },
  "interpreter": {
   "hash": "ebd68f0662309f13dd01b446a0ad4ca01ccb776ad70cb2b492241ff99c3d082e"
  }
 },
 "nbformat": 4,
 "nbformat_minor": 2
}